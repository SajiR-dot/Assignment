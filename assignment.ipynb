{
 "cells": [
  {
   "cell_type": "code",
   "execution_count": 1,
   "id": "f5fb0cc5-1fd6-46a8-b872-23306fa35729",
   "metadata": {},
   "outputs": [
    {
     "name": "stdout",
     "output_type": "stream",
     "text": [
      "4 2\n"
     ]
    },
    {
     "name": "stdin",
     "output_type": "stream",
     "text": [
      "Enter the value of length: 4\n",
      "Enter the value of width: 6\n"
     ]
    },
    {
     "name": "stdout",
     "output_type": "stream",
     "text": [
      "24\n"
     ]
    },
    {
     "name": "stdin",
     "output_type": "stream",
     "text": [
      "Enter the temperature in celsius: 98\n"
     ]
    },
    {
     "name": "stdout",
     "output_type": "stream",
     "text": [
      "208.4\n"
     ]
    },
    {
     "name": "stdin",
     "output_type": "stream",
     "text": [
      "Enter the string: level\\\n"
     ]
    },
    {
     "name": "stdout",
     "output_type": "stream",
     "text": [
      "6\n"
     ]
    },
    {
     "name": "stdin",
     "output_type": "stream",
     "text": [
      "Enter the sentence: gyjy\n"
     ]
    },
    {
     "name": "stdout",
     "output_type": "stream",
     "text": [
      "0\n"
     ]
    },
    {
     "name": "stdin",
     "output_type": "stream",
     "text": [
      "Enter the word: ftjjgf\n",
      "Enter the text: dfgfg\n"
     ]
    },
    {
     "name": "stdout",
     "output_type": "stream",
     "text": [
      "dfgfg\n"
     ]
    }
   ],
   "source": [
    "#Python basics variable\n",
    "#question number 1\n",
    "#swapping\n",
    "x = 2\n",
    "y = 4\n",
    "x,y = y,x\n",
    "print(x,y)\n",
    "\n",
    "\n",
    "# #question number 2\n",
    "# #Area of the rectangle\n",
    "l = int(input(\"Enter the value of length:\"))\n",
    "b = int(input(\"Enter the value of width:\"))\n",
    "area = l*b\n",
    "print(area)\n",
    "\n",
    "\n",
    "# #question number 3\n",
    "# #converting temperature\n",
    "temp_in_celcius = float(input(\"Enter the temperature in celsius:\"))\n",
    "temp_in_fahrenheit = (temp_in_celcius * 9/5)+32\n",
    "print(temp_in_fahrenheit)\n",
    "\n",
    "#string based questions\n",
    "#question number 1\n",
    "#finding the length of the string\n",
    "s = input(\"Enter the string:\")\n",
    "print(len(s))\n",
    "\n",
    "#question number 2\n",
    "# counting the vowels in the sentence\n",
    "\n",
    "sentence = input(\"Enter the sentence:\")\n",
    "a = sentence.count(\"a\")\n",
    "e = sentence.count(\"e\")\n",
    "i = sentence.count(\"i\")\n",
    "o = sentence.count(\"o\")\n",
    "u = sentence.count(\"u\")\n",
    "vowels = a+e+i+o+u\n",
    "print(vowels)\n",
    "\n",
    "#question number 5\n",
    "#checking whether a string is a palindrome\n",
    "word = input(\"Enter the word:\")\n",
    "word_backward = word[::-1]\n",
    "if word==word_backward:\n",
    "    print(\"It is a palindrome\")\n",
    "\n",
    "#question number 6\n",
    "#removes spaces from string\n",
    "text =  input(\"Enter the text:\")\n",
    "joined_text = text.replace(\" \",\"\")\n",
    "print(joined_text)"
   ]
  },
  {
   "cell_type": "code",
   "execution_count": null,
   "id": "b1994b00-ca05-4917-80ba-5e3b6fe895e9",
   "metadata": {},
   "outputs": [],
   "source": []
  }
 ],
 "metadata": {
  "kernelspec": {
   "display_name": "Python 3 (ipykernel)",
   "language": "python",
   "name": "python3"
  },
  "language_info": {
   "codemirror_mode": {
    "name": "ipython",
    "version": 3
   },
   "file_extension": ".py",
   "mimetype": "text/x-python",
   "name": "python",
   "nbconvert_exporter": "python",
   "pygments_lexer": "ipython3",
   "version": "3.10.8"
  }
 },
 "nbformat": 4,
 "nbformat_minor": 5
}
